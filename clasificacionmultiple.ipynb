{
  "nbformat": 4,
  "nbformat_minor": 0,
  "metadata": {
    "colab": {
      "provenance": [],
      "gpuType": "T4",
      "authorship_tag": "ABX9TyPzQjdu9VXq8w564wVI7fzj",
      "include_colab_link": true
    },
    "kernelspec": {
      "name": "python3",
      "display_name": "Python 3"
    },
    "language_info": {
      "name": "python"
    },
    "accelerator": "GPU"
  },
  "cells": [
    {
      "cell_type": "markdown",
      "metadata": {
        "id": "view-in-github",
        "colab_type": "text"
      },
      "source": [
        "<a href=\"https://colab.research.google.com/github/FelipeOcampo03/multiclassclassification/blob/main/clasificacionmultiple.ipynb\" target=\"_parent\"><img src=\"https://colab.research.google.com/assets/colab-badge.svg\" alt=\"Open In Colab\"/></a>"
      ]
    },
    {
      "cell_type": "code",
      "execution_count": 4,
      "metadata": {
        "id": "G-g0Vfg4dBdA"
      },
      "outputs": [],
      "source": [
        "import numpy as np\n",
        "from keras import layers, models\n",
        "from keras.datasets import reuters"
      ]
    },
    {
      "cell_type": "code",
      "source": [
        "(train_data, train_labels) , (test_data, test_labels) = reuters.load_data(num_words= 10000)"
      ],
      "metadata": {
        "colab": {
          "base_uri": "https://localhost:8080/"
        },
        "id": "_ChAGnzDdLKg",
        "outputId": "b3c9c26e-0cd5-41b3-9226-eb6d68c20203"
      },
      "execution_count": 5,
      "outputs": [
        {
          "output_type": "stream",
          "name": "stdout",
          "text": [
            "Downloading data from https://storage.googleapis.com/tensorflow/tf-keras-datasets/reuters.npz\n",
            "2110848/2110848 [==============================] - 0s 0us/step\n"
          ]
        }
      ]
    },
    {
      "cell_type": "code",
      "source": [
        "train_data[0]"
      ],
      "metadata": {
        "id": "1cV9aQXodpCb"
      },
      "execution_count": null,
      "outputs": []
    },
    {
      "cell_type": "code",
      "source": [
        "word_index = reuters.get_word_index()"
      ],
      "metadata": {
        "colab": {
          "base_uri": "https://localhost:8080/"
        },
        "id": "3wzVFO-0drmZ",
        "outputId": "3d9833fd-48ab-4687-e551-b10551f57319"
      },
      "execution_count": 8,
      "outputs": [
        {
          "output_type": "stream",
          "name": "stdout",
          "text": [
            "Downloading data from https://storage.googleapis.com/tensorflow/tf-keras-datasets/reuters_word_index.json\n",
            "550378/550378 [==============================] - 0s 0us/step\n"
          ]
        }
      ]
    },
    {
      "cell_type": "code",
      "source": [
        "word_index = dict([(value, key) for (key, value) in word_index.items()])"
      ],
      "metadata": {
        "id": "wgtJngkcd1dZ"
      },
      "execution_count": 9,
      "outputs": []
    },
    {
      "cell_type": "code",
      "source": [
        "for _ in train_data[0]:\n",
        "    print(word_index.get(_ - 3))"
      ],
      "metadata": {
        "id": "c4yjGfAvd4ih"
      },
      "execution_count": null,
      "outputs": []
    },
    {
      "cell_type": "code",
      "source": [
        "train_labels[0]"
      ],
      "metadata": {
        "colab": {
          "base_uri": "https://localhost:8080/"
        },
        "id": "ofV70JTTd-Di",
        "outputId": "ab618a4d-3193-4450-8529-0e07944508d6"
      },
      "execution_count": 11,
      "outputs": [
        {
          "output_type": "execute_result",
          "data": {
            "text/plain": [
              "3"
            ]
          },
          "metadata": {},
          "execution_count": 11
        }
      ]
    },
    {
      "cell_type": "code",
      "source": [
        "train_data.shape #No es tipo tensor"
      ],
      "metadata": {
        "colab": {
          "base_uri": "https://localhost:8080/"
        },
        "id": "BMldhFoFeDIr",
        "outputId": "71f79c6d-2cb0-4441-cd78-6fb69545af5c"
      },
      "execution_count": 12,
      "outputs": [
        {
          "output_type": "execute_result",
          "data": {
            "text/plain": [
              "(8982,)"
            ]
          },
          "metadata": {},
          "execution_count": 12
        }
      ]
    },
    {
      "cell_type": "code",
      "source": [
        "def vectorizar(sequences, dim=10000):\n",
        "    results = np.zeros((len(sequences), dim))\n",
        "    for i, sequence in enumerate(sequences):\n",
        "        results[i, sequence] = 1\n",
        "    return results"
      ],
      "metadata": {
        "id": "a_YLE9qFeGjy"
      },
      "execution_count": 14,
      "outputs": []
    },
    {
      "cell_type": "code",
      "source": [
        "x_train = vectorizar(train_data)\n",
        "x_test = vectorizar(test_data)"
      ],
      "metadata": {
        "id": "rI55SaiYeLP6"
      },
      "execution_count": 15,
      "outputs": []
    },
    {
      "cell_type": "code",
      "source": [
        "from keras.utils import to_categorical"
      ],
      "metadata": {
        "id": "3HIV-1JZerms"
      },
      "execution_count": 18,
      "outputs": []
    },
    {
      "cell_type": "code",
      "source": [
        "y_train = to_categorical(train_labels)\n",
        "y_test = to_categorical(test_labels)"
      ],
      "metadata": {
        "id": "Pe1lA44gfOHy"
      },
      "execution_count": 19,
      "outputs": []
    },
    {
      "cell_type": "code",
      "source": [
        "y_train[0] #Estructura de tensor"
      ],
      "metadata": {
        "colab": {
          "base_uri": "https://localhost:8080/"
        },
        "id": "97eq8qc7fXg9",
        "outputId": "317b35bb-0da3-40e5-bdea-b6d40e2d1793"
      },
      "execution_count": 20,
      "outputs": [
        {
          "output_type": "execute_result",
          "data": {
            "text/plain": [
              "array([0., 0., 0., 1., 0., 0., 0., 0., 0., 0., 0., 0., 0., 0., 0., 0., 0.,\n",
              "       0., 0., 0., 0., 0., 0., 0., 0., 0., 0., 0., 0., 0., 0., 0., 0., 0.,\n",
              "       0., 0., 0., 0., 0., 0., 0., 0., 0., 0., 0., 0.], dtype=float32)"
            ]
          },
          "metadata": {},
          "execution_count": 20
        }
      ]
    },
    {
      "cell_type": "code",
      "source": [
        "model= models.Sequential()\n",
        "model.add(layers.Dense(64, activation='relu', input_shape= (10000, )))\n",
        "model.add(layers.Dense(64,activation='relu'))\n",
        "model.add(layers.Dense(46,activation='softmax'))"
      ],
      "metadata": {
        "id": "xgf0dfj4fdbr"
      },
      "execution_count": 40,
      "outputs": []
    },
    {
      "cell_type": "code",
      "source": [
        "model.compile(optimizer='rmsprop', loss='categorical_crossentropy', metrics=['accuracy'])"
      ],
      "metadata": {
        "id": "Hj2jp_jYf9eE"
      },
      "execution_count": 41,
      "outputs": []
    },
    {
      "cell_type": "code",
      "source": [
        "x_val= x_train[:1000]\n",
        "partial_x_train= x_train[1000:]\n",
        "y_val= y_train[:1000]\n",
        "partial_y_train= y_train[1000:]"
      ],
      "metadata": {
        "id": "ynhHFEnIgV1t"
      },
      "execution_count": 42,
      "outputs": []
    },
    {
      "cell_type": "code",
      "source": [
        "history= model.fit(partial_x_train, partial_y_train, epochs= 9, batch_size= 512, validation_data=(x_val,y_val))"
      ],
      "metadata": {
        "colab": {
          "base_uri": "https://localhost:8080/"
        },
        "id": "mP2spCH9gxB2",
        "outputId": "c9048497-6d91-433c-c280-3267b1f88f6a"
      },
      "execution_count": 43,
      "outputs": [
        {
          "output_type": "stream",
          "name": "stdout",
          "text": [
            "Epoch 1/9\n",
            "16/16 [==============================] - 1s 35ms/step - loss: 2.7053 - accuracy: 0.4747 - val_loss: 1.8489 - val_accuracy: 0.6170\n",
            "Epoch 2/9\n",
            "16/16 [==============================] - 0s 19ms/step - loss: 1.5510 - accuracy: 0.6809 - val_loss: 1.3903 - val_accuracy: 0.6860\n",
            "Epoch 3/9\n",
            "16/16 [==============================] - 0s 17ms/step - loss: 1.1961 - accuracy: 0.7379 - val_loss: 1.2257 - val_accuracy: 0.7430\n",
            "Epoch 4/9\n",
            "16/16 [==============================] - 0s 17ms/step - loss: 0.9809 - accuracy: 0.7876 - val_loss: 1.0908 - val_accuracy: 0.7570\n",
            "Epoch 5/9\n",
            "16/16 [==============================] - 0s 18ms/step - loss: 0.8204 - accuracy: 0.8177 - val_loss: 1.0232 - val_accuracy: 0.7870\n",
            "Epoch 6/9\n",
            "16/16 [==============================] - 0s 18ms/step - loss: 0.6866 - accuracy: 0.8492 - val_loss: 0.9855 - val_accuracy: 0.7940\n",
            "Epoch 7/9\n",
            "16/16 [==============================] - 0s 19ms/step - loss: 0.5728 - accuracy: 0.8761 - val_loss: 0.9229 - val_accuracy: 0.8010\n",
            "Epoch 8/9\n",
            "16/16 [==============================] - 0s 18ms/step - loss: 0.4811 - accuracy: 0.8956 - val_loss: 0.9049 - val_accuracy: 0.8140\n",
            "Epoch 9/9\n",
            "16/16 [==============================] - 0s 17ms/step - loss: 0.4104 - accuracy: 0.9137 - val_loss: 0.8967 - val_accuracy: 0.8030\n"
          ]
        }
      ]
    },
    {
      "cell_type": "code",
      "source": [
        "import matplotlib.pyplot as plt\n",
        "\n",
        "history_dict= history.history\n",
        "loss_values= history_dict['loss']\n",
        "val_loss_values= history_dict['val_loss']\n",
        "\n",
        "fig= plt.figure(figsize= (10,10))\n",
        "epoch= range(1,len(loss_values)+1)\n",
        "plt.plot(epoch, loss_values,'o', label= 'training')\n",
        "plt.plot(epoch, val_loss_values,'--', label= 'validation')\n",
        "plt.legend()\n",
        "plt.show()"
      ],
      "metadata": {
        "colab": {
          "base_uri": "https://localhost:8080/",
          "height": 830
        },
        "id": "4us7h9RUhHIN",
        "outputId": "bb482f7d-232d-490f-d097-f3209b1f1b16"
      },
      "execution_count": 44,
      "outputs": [
        {
          "output_type": "display_data",
          "data": {
            "text/plain": [
              "<Figure size 1000x1000 with 1 Axes>"
            ],
            "image/png": "[encoded data removed]"
          },
          "metadata": {}
        }
      ]
    },
    {
      "cell_type": "code",
      "source": [
        "import matplotlib.pyplot as plt\n",
        "\n",
        "history_dict= history.history\n",
        "loss_values= history_dict['accuracy']\n",
        "val_loss_values= history_dict['val_accuracy']\n",
        "epoch= range(1,len(loss_values)+1)\n",
        "plt.plot(epoch, loss_values,'o', label= 'training')\n",
        "plt.plot(epoch, val_loss_values,'--', label= 'training')\n",
        "plt.legend()\n",
        "plt.show()"
      ],
      "metadata": {
        "colab": {
          "base_uri": "https://localhost:8080/",
          "height": 430
        },
        "id": "rgEXP642h1sO",
        "outputId": "e49f7b74-a67b-4f5c-a2b2-89d9ec49122c"
      },
      "execution_count": 45,
      "outputs": [
        {
          "output_type": "display_data",
          "data": {
            "text/plain": [
              "<Figure size 640x480 with 1 Axes>"
            ],
            "image/png": "[encoded data removed]"
          },
          "metadata": {}
        }
      ]
    },
    {
      "cell_type": "code",
      "source": [
        "model.evaluate(x_test,y_test)"
      ],
      "metadata": {
        "colab": {
          "base_uri": "https://localhost:8080/"
        },
        "id": "0y7Xy96vh_2u",
        "outputId": "9404e517-4779-4f3a-fb42-0e9d7d4c4b51"
      },
      "execution_count": 36,
      "outputs": [
        {
          "output_type": "stream",
          "name": "stdout",
          "text": [
            "71/71 [==============================] - 0s 3ms/step - loss: 1.1467 - accuracy: 0.7890\n"
          ]
        },
        {
          "output_type": "execute_result",
          "data": {
            "text/plain": [
              "[1.1467199325561523, 0.7889581322669983]"
            ]
          },
          "metadata": {},
          "execution_count": 36
        }
      ]
    },
    {
      "cell_type": "code",
      "source": [
        "model.evaluate(x_test,y_test)"
      ],
      "metadata": {
        "colab": {
          "base_uri": "https://localhost:8080/"
        },
        "id": "-OOxtWUwiSOG",
        "outputId": "1ee8046e-0216-433e-cab6-e9841feef08d"
      },
      "execution_count": 46,
      "outputs": [
        {
          "output_type": "stream",
          "name": "stdout",
          "text": [
            "71/71 [==============================] - 0s 4ms/step - loss: 0.9778 - accuracy: 0.7778\n"
          ]
        },
        {
          "output_type": "execute_result",
          "data": {
            "text/plain": [
              "[0.9777745008468628, 0.777827262878418]"
            ]
          },
          "metadata": {},
          "execution_count": 46
        }
      ]
    },
    {
      "cell_type": "code",
      "source": [
        "predictions= model.predict(x_test)"
      ],
      "metadata": {
        "colab": {
          "base_uri": "https://localhost:8080/"
        },
        "id": "QpfL8ig3iaBf",
        "outputId": "c4046e33-5782-43b3-f4e3-a2af4b9ed9d6"
      },
      "execution_count": 49,
      "outputs": [
        {
          "output_type": "stream",
          "name": "stdout",
          "text": [
            "71/71 [==============================] - 0s 3ms/step\n"
          ]
        }
      ]
    },
    {
      "cell_type": "code",
      "source": [
        "predictions[0]"
      ],
      "metadata": {
        "colab": {
          "base_uri": "https://localhost:8080/"
        },
        "id": "5iz4ILRNigmQ",
        "outputId": "ee56a087-0e16-4371-ade5-43e7a27e4ccf"
      },
      "execution_count": 50,
      "outputs": [
        {
          "output_type": "execute_result",
          "data": {
            "text/plain": [
              "array([2.0787631e-05, 1.2324958e-05, 7.7762161e-07, 7.3044044e-01,\n",
              "       2.6454473e-01, 1.8608845e-06, 1.5940140e-04, 3.3483131e-05,\n",
              "       1.4409798e-03, 2.7220061e-05, 3.5857673e-05, 1.2527534e-04,\n",
              "       7.2707617e-06, 4.3959409e-04, 2.3168084e-05, 1.1455774e-05,\n",
              "       2.6260506e-04, 5.8160548e-04, 9.8799301e-06, 2.4822861e-04,\n",
              "       1.6918486e-04, 1.5166444e-04, 1.0594106e-06, 2.9543802e-04,\n",
              "       4.7211511e-06, 4.4137330e-05, 1.5324724e-05, 4.2207830e-06,\n",
              "       1.1058769e-04, 1.5770049e-04, 7.6388103e-05, 2.1684078e-05,\n",
              "       5.1295996e-05, 5.9548579e-06, 9.6179720e-05, 1.2646939e-06,\n",
              "       2.8121023e-05, 2.8645949e-05, 2.4174933e-05, 1.9003946e-04,\n",
              "       1.1616341e-05, 6.5779990e-05, 1.0044744e-06, 1.1825858e-05,\n",
              "       2.3556852e-06, 2.6577834e-06], dtype=float32)"
            ]
          },
          "metadata": {},
          "execution_count": 50
        }
      ]
    },
    {
      "cell_type": "code",
      "source": [
        "np.sum(predictions[0])"
      ],
      "metadata": {
        "colab": {
          "base_uri": "https://localhost:8080/"
        },
        "id": "cAcsTVW-iphu",
        "outputId": "bbccdc68-4634-48d4-8885-204ceaf39384"
      },
      "execution_count": 51,
      "outputs": [
        {
          "output_type": "execute_result",
          "data": {
            "text/plain": [
              "1.0000001"
            ]
          },
          "metadata": {},
          "execution_count": 51
        }
      ]
    },
    {
      "cell_type": "code",
      "source": [
        "np.argmax(predictions[0])"
      ],
      "metadata": {
        "colab": {
          "base_uri": "https://localhost:8080/"
        },
        "id": "EBza4UdPishW",
        "outputId": "4567eb98-105c-4903-ef55-dff77db6cc5f"
      },
      "execution_count": 52,
      "outputs": [
        {
          "output_type": "execute_result",
          "data": {
            "text/plain": [
              "3"
            ]
          },
          "metadata": {},
          "execution_count": 52
        }
      ]
    },
    {
      "cell_type": "code",
      "source": [
        "model = models.Sequential()\n",
        "model.add(layers.Dense(65, activation='relu', input_shape=(10000,)))\n",
        "model.add(layers.Dropout(0.75))\n",
        "model.add(layers.Dense(65, activation='relu'))\n",
        "model.add(layers.Dropout(0.25))\n",
        "model.add(layers.Dense(46, activation='softmax'))\n",
        "\n",
        "model.compile(optimizer='rmsprop',\n",
        "              loss='categorical_crossentropy',\n",
        "              metrics=['acc']\n",
        "             )\n",
        "\n",
        "x_val2 = x_train[:1000]\n",
        "partial_x_train2 = x_train[1000:]\n",
        "\n",
        "y_val2 = y_train[:1000]\n",
        "partial_y_train2 =  y_train[1000:]\n",
        "\n",
        "history2 = model.fit(partial_x_train2,\n",
        "                   partial_y_train2,\n",
        "                   epochs=25,\n",
        "                   batch_size=512,\n",
        "                   validation_data=(x_val2,y_val2))"
      ],
      "metadata": {
        "colab": {
          "base_uri": "https://localhost:8080/"
        },
        "id": "seukRJyUi9mO",
        "outputId": "cb1295d4-0ef4-440b-cc11-9f54cb937d1e"
      },
      "execution_count": 53,
      "outputs": [
        {
          "output_type": "stream",
          "name": "stdout",
          "text": [
            "Epoch 1/25\n",
            "16/16 [==============================] - 2s 37ms/step - loss: 3.1522 - acc: 0.3009 - val_loss: 2.2763 - val_acc: 0.5410\n",
            "Epoch 2/25\n",
            "16/16 [==============================] - 0s 20ms/step - loss: 2.1854 - acc: 0.4961 - val_loss: 1.6992 - val_acc: 0.5920\n",
            "Epoch 3/25\n",
            "16/16 [==============================] - 0s 17ms/step - loss: 1.8358 - acc: 0.5576 - val_loss: 1.5340 - val_acc: 0.6340\n",
            "Epoch 4/25\n",
            "16/16 [==============================] - 0s 21ms/step - loss: 1.6703 - acc: 0.5891 - val_loss: 1.4073 - val_acc: 0.6750\n",
            "Epoch 5/25\n",
            "16/16 [==============================] - 0s 18ms/step - loss: 1.5533 - acc: 0.6186 - val_loss: 1.3307 - val_acc: 0.6990\n",
            "Epoch 6/25\n",
            "16/16 [==============================] - 0s 17ms/step - loss: 1.4737 - acc: 0.6383 - val_loss: 1.2824 - val_acc: 0.7080\n",
            "Epoch 7/25\n",
            "16/16 [==============================] - 0s 18ms/step - loss: 1.3883 - acc: 0.6594 - val_loss: 1.2270 - val_acc: 0.7140\n",
            "Epoch 8/25\n",
            "16/16 [==============================] - 0s 18ms/step - loss: 1.3419 - acc: 0.6704 - val_loss: 1.1956 - val_acc: 0.7220\n",
            "Epoch 9/25\n",
            "16/16 [==============================] - 0s 19ms/step - loss: 1.2893 - acc: 0.6820 - val_loss: 1.1670 - val_acc: 0.7290\n",
            "Epoch 10/25\n",
            "16/16 [==============================] - 0s 19ms/step - loss: 1.2362 - acc: 0.6898 - val_loss: 1.1506 - val_acc: 0.7320\n",
            "Epoch 11/25\n",
            "16/16 [==============================] - 0s 19ms/step - loss: 1.2127 - acc: 0.6939 - val_loss: 1.1339 - val_acc: 0.7400\n",
            "Epoch 12/25\n",
            "16/16 [==============================] - 0s 18ms/step - loss: 1.1712 - acc: 0.7119 - val_loss: 1.1103 - val_acc: 0.7480\n",
            "Epoch 13/25\n",
            "16/16 [==============================] - 0s 19ms/step - loss: 1.1395 - acc: 0.7120 - val_loss: 1.0916 - val_acc: 0.7570\n",
            "Epoch 14/25\n",
            "16/16 [==============================] - 0s 21ms/step - loss: 1.1102 - acc: 0.7207 - val_loss: 1.0799 - val_acc: 0.7560\n",
            "Epoch 15/25\n",
            "16/16 [==============================] - 0s 18ms/step - loss: 1.0813 - acc: 0.7239 - val_loss: 1.0638 - val_acc: 0.7750\n",
            "Epoch 16/25\n",
            "16/16 [==============================] - 0s 18ms/step - loss: 1.0457 - acc: 0.7352 - val_loss: 1.0581 - val_acc: 0.7770\n",
            "Epoch 17/25\n",
            "16/16 [==============================] - 0s 20ms/step - loss: 1.0446 - acc: 0.7337 - val_loss: 1.0522 - val_acc: 0.7790\n",
            "Epoch 18/25\n",
            "16/16 [==============================] - 0s 20ms/step - loss: 0.9947 - acc: 0.7479 - val_loss: 1.0415 - val_acc: 0.7830\n",
            "Epoch 19/25\n",
            "16/16 [==============================] - 0s 23ms/step - loss: 0.9759 - acc: 0.7486 - val_loss: 1.0411 - val_acc: 0.7800\n",
            "Epoch 20/25\n",
            "16/16 [==============================] - 0s 23ms/step - loss: 0.9556 - acc: 0.7543 - val_loss: 1.0381 - val_acc: 0.7830\n",
            "Epoch 21/25\n",
            "16/16 [==============================] - 0s 24ms/step - loss: 0.9230 - acc: 0.7605 - val_loss: 1.0366 - val_acc: 0.7850\n",
            "Epoch 22/25\n",
            "16/16 [==============================] - 0s 23ms/step - loss: 0.9062 - acc: 0.7651 - val_loss: 1.0317 - val_acc: 0.7870\n",
            "Epoch 23/25\n",
            "16/16 [==============================] - 0s 23ms/step - loss: 0.9028 - acc: 0.7643 - val_loss: 1.0314 - val_acc: 0.7870\n",
            "Epoch 24/25\n",
            "16/16 [==============================] - 0s 23ms/step - loss: 0.8769 - acc: 0.7665 - val_loss: 1.0317 - val_acc: 0.7930\n",
            "Epoch 25/25\n",
            "16/16 [==============================] - 0s 16ms/step - loss: 0.8581 - acc: 0.7692 - val_loss: 1.0247 - val_acc: 0.7980\n"
          ]
        }
      ]
    }
  ]
}